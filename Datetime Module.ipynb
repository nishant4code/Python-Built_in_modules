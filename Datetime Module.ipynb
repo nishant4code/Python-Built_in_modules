{
 "cells": [
  {
   "cell_type": "code",
   "execution_count": 1,
   "id": "b0dc4428",
   "metadata": {},
   "outputs": [],
   "source": [
    "from datetime import date"
   ]
  },
  {
   "cell_type": "code",
   "execution_count": 5,
   "id": "cbfb6cbd",
   "metadata": {},
   "outputs": [
    {
     "name": "stdout",
     "output_type": "stream",
     "text": [
      "2022-02-21\n"
     ]
    }
   ],
   "source": [
    "mydate = date(2022, 2, 21)\n",
    "print(mydate)"
   ]
  },
  {
   "cell_type": "code",
   "execution_count": 6,
   "id": "98481232",
   "metadata": {},
   "outputs": [
    {
     "name": "stdout",
     "output_type": "stream",
     "text": [
      "2022-10-30\n"
     ]
    }
   ],
   "source": [
    "#current date\n",
    "print(date.today())"
   ]
  },
  {
   "cell_type": "code",
   "execution_count": 13,
   "id": "0bc73ba3",
   "metadata": {},
   "outputs": [
    {
     "name": "stdout",
     "output_type": "stream",
     "text": [
      "2019\n",
      "3\n",
      "23\n"
     ]
    }
   ],
   "source": [
    "#getting year, month, date\n",
    "pre_date = date(2019,3,23) #covid date\n",
    "print(pre_date.year)\n",
    "print(pre_date.month)\n",
    "print(pre_date.day)"
   ]
  },
  {
   "cell_type": "code",
   "execution_count": 32,
   "id": "2cdfaa36",
   "metadata": {},
   "outputs": [
    {
     "name": "stdout",
     "output_type": "stream",
     "text": [
      "2022-10-30\n",
      "Current year: 2022\n",
      "current month: 10\n",
      "current day: 30\n",
      "Day of week 6\n",
      "<class 'datetime.date'>\n"
     ]
    }
   ],
   "source": [
    "#getting year, month, date\n",
    "today_date = date.today()\n",
    "print(today_date)\n",
    "print('Current year:', today_date.year)\n",
    "print('current month:', today_date.month)\n",
    "print('current day:', today_date.day)\n",
    "print('Day of week',today_date.weekday()) #returns interger value of week day number MOnday-1, sunday-7\n",
    "print(type(today_date))"
   ]
  },
  {
   "cell_type": "code",
   "execution_count": 22,
   "id": "0fc9a9b1",
   "metadata": {},
   "outputs": [
    {
     "name": "stdout",
     "output_type": "stream",
     "text": [
      "2022-10-30\n",
      "<class 'datetime.date'>\n",
      "<class 'str'>\n"
     ]
    }
   ],
   "source": [
    "#converting date to string\n",
    "t_date = date.today()\n",
    "print(t_date)\n",
    "str1 = date.isoformat(t_date)\n",
    "print(type(t_date))\n",
    "print(type(str1))"
   ]
  },
  {
   "cell_type": "code",
   "execution_count": 23,
   "id": "3ae77558",
   "metadata": {},
   "outputs": [],
   "source": [
    "from datetime import date"
   ]
  },
  {
   "cell_type": "code",
   "execution_count": 31,
   "id": "882a24ee",
   "metadata": {},
   "outputs": [
    {
     "name": "stdout",
     "output_type": "stream",
     "text": [
      "2022-11-11\n",
      "2022-10-30\n",
      "2022\n",
      "10\n",
      "30\n",
      "<class 'str'>\n",
      "6\n"
     ]
    }
   ],
   "source": [
    "dt = date(2022, 11,11)\n",
    "print(dt)\n",
    "dtt = date.today()\n",
    "print(dtt)\n",
    "print(dtt.year)\n",
    "print(dtt.month)\n",
    "print(dtt.day)\n",
    "str1 = date.isoformat(date.today())\n",
    "print(type(str1))\n",
    "print(dtt.weekday())"
   ]
  },
  {
   "cell_type": "code",
   "execution_count": 33,
   "id": "703847e4",
   "metadata": {},
   "outputs": [],
   "source": [
    "from datetime import time"
   ]
  },
  {
   "cell_type": "code",
   "execution_count": 34,
   "id": "60a0ddc1",
   "metadata": {},
   "outputs": [
    {
     "name": "stdout",
     "output_type": "stream",
     "text": [
      "time: 15:32:12\n"
     ]
    }
   ],
   "source": [
    "t1 = time(15,32,12)\n",
    "print('time:', t1)"
   ]
  },
  {
   "cell_type": "code",
   "execution_count": 36,
   "id": "985d65dc",
   "metadata": {},
   "outputs": [
    {
     "name": "stdout",
     "output_type": "stream",
     "text": [
      "00:00:00\n"
     ]
    }
   ],
   "source": [
    "t1 = time()\n",
    "print(t1) #returns time as '00:00:00'"
   ]
  },
  {
   "cell_type": "code",
   "execution_count": 38,
   "id": "5138b441",
   "metadata": {},
   "outputs": [
    {
     "name": "stdout",
     "output_type": "stream",
     "text": [
      "00:21:00\n"
     ]
    }
   ],
   "source": [
    "t1 = time(minute = 21)\n",
    "print(t1) #returns 00:21:00"
   ]
  },
  {
   "cell_type": "code",
   "execution_count": 41,
   "id": "e4fddb80",
   "metadata": {},
   "outputs": [
    {
     "name": "stdout",
     "output_type": "stream",
     "text": [
      "18:00:00\n"
     ]
    }
   ],
   "source": [
    "t1 = time(hour =18) # if hour value is 24 or more, raises value error\n",
    "print(t1) #returns 08:00:00"
   ]
  },
  {
   "cell_type": "code",
   "execution_count": 47,
   "id": "97eea4aa",
   "metadata": {},
   "outputs": [
    {
     "name": "stdout",
     "output_type": "stream",
     "text": [
      "time: 21:40:12\n",
      "hour: 21\n",
      "minute: 40\n",
      "second: 12\n",
      "microsecond: 0\n"
     ]
    }
   ],
   "source": [
    "t1 = time(21,40,12)\n",
    "print('time:', t1)\n",
    "print('hour:', t1.hour)\n",
    "print('minute:', t1.minute)\n",
    "print('second:', t1.second)\n",
    "print('microsecond:', t1.microsecond) #returns microsecond: 0, as no microsecond is given in date"
   ]
  },
  {
   "cell_type": "code",
   "execution_count": 53,
   "id": "0d07fa4f",
   "metadata": {},
   "outputs": [
    {
     "name": "stdout",
     "output_type": "stream",
     "text": [
      "time: 20:11:23\n",
      "time in str format: <class 'str'>\n"
     ]
    }
   ],
   "source": [
    "#converting string to string\n",
    "t1 = time(20,11,23)\n",
    "str1 = t1.isoformat()\n",
    "print('time:', t1)\n",
    "print('time in str format:', type(str1))"
   ]
  },
  {
   "cell_type": "code",
   "execution_count": 54,
   "id": "b6b3b103",
   "metadata": {},
   "outputs": [],
   "source": [
    "from datetime import datetime"
   ]
  },
  {
   "cell_type": "code",
   "execution_count": 55,
   "id": "d3a92b90",
   "metadata": {},
   "outputs": [
    {
     "name": "stdout",
     "output_type": "stream",
     "text": [
      "datetime date: 2022-04-21 05:21:50\n"
     ]
    }
   ],
   "source": [
    "dt = datetime(2022,4,21, 5,21,50)\n",
    "print('datetime date:', dt)"
   ]
  },
  {
   "cell_type": "code",
   "execution_count": 56,
   "id": "dc0c3933",
   "metadata": {},
   "outputs": [
    {
     "name": "stdout",
     "output_type": "stream",
     "text": [
      "year: 2022\n",
      "month: 4\n",
      "day: 21\n",
      "hour: 5\n",
      "minute: 21\n",
      "second: 21\n",
      "microsecond: 0\n"
     ]
    }
   ],
   "source": [
    "#getting datetime information\n",
    "print('year:', dt.year)\n",
    "print('month:', dt.month)\n",
    "print('day:', dt.day)\n",
    "print('hour:', dt.hour)\n",
    "print('minute:', dt.minute)\n",
    "print('second:', dt.minute)\n",
    "print('microsecond:', dt.microsecond) #returns microsecond: 0, as microsecond is not given in datetime"
   ]
  },
  {
   "cell_type": "code",
   "execution_count": 57,
   "id": "b4f4bcb9",
   "metadata": {},
   "outputs": [
    {
     "name": "stdout",
     "output_type": "stream",
     "text": [
      "current datetime: 2022-10-30 17:02:10.664727\n"
     ]
    }
   ],
   "source": [
    "dt1 = datetime.now()\n",
    "print('current datetime:', dt1)"
   ]
  },
  {
   "cell_type": "code",
   "execution_count": 58,
   "id": "8e9c29d0",
   "metadata": {},
   "outputs": [
    {
     "name": "stdout",
     "output_type": "stream",
     "text": [
      "str type of datetime: <class 'str'>\n"
     ]
    }
   ],
   "source": [
    "#converting datetime to string\n",
    "str1 = dt1.isoformat()\n",
    "print('str type of datetime:', type(str1))"
   ]
  },
  {
   "cell_type": "code",
   "execution_count": 59,
   "id": "641bc7f7",
   "metadata": {},
   "outputs": [
    {
     "name": "stdout",
     "output_type": "stream",
     "text": [
      "2022-10-30 17:03:31.889084\n"
     ]
    }
   ],
   "source": [
    "print(dt1.today())"
   ]
  },
  {
   "cell_type": "code",
   "execution_count": 65,
   "id": "32e51880",
   "metadata": {},
   "outputs": [
    {
     "name": "stdout",
     "output_type": "stream",
     "text": [
      "17:02:10.664727\n"
     ]
    }
   ],
   "source": [
    "print(dt1.time())"
   ]
  },
  {
   "cell_type": "code",
   "execution_count": 66,
   "id": "a8497432",
   "metadata": {},
   "outputs": [
    {
     "name": "stdout",
     "output_type": "stream",
     "text": [
      "2022-10-30\n"
     ]
    }
   ],
   "source": [
    "print(dt1.date())"
   ]
  },
  {
   "cell_type": "code",
   "execution_count": 71,
   "id": "de16b2d8",
   "metadata": {},
   "outputs": [
    {
     "name": "stdout",
     "output_type": "stream",
     "text": [
      "2022-10-30 17:24:35.729595\n",
      "2022-10-30 17:24:35.729595\n",
      "date after 2 yrs: 2024-10-29 17:24:35.729595\n",
      "date after 2 days: 2022-11-01 17:24:35.729595\n"
     ]
    }
   ],
   "source": [
    "#add days to datetime object\n",
    "from datetime import datetime, timedelta\n",
    "dt = datetime.now()\n",
    "print(dt)\n",
    "print(str(dt))\n",
    "future_dt_2yr = dt + timedelta(days = 730)\n",
    "future_dt_2d = dt + timedelta(days = 2)\n",
    "print('date after 2 yrs:', future_dt_2yr)\n",
    "print('date after 2 days:', future_dt_2d)\n"
   ]
  },
  {
   "cell_type": "code",
   "execution_count": 73,
   "id": "eb7baa44",
   "metadata": {},
   "outputs": [
    {
     "name": "stdout",
     "output_type": "stream",
     "text": [
      "today's date: 2022-10-30 17:34:25.902533\n",
      "time after 2 days: 2022-11-01 17:34:25.902533\n",
      "time difference: 2 days, 0:00:00\n"
     ]
    }
   ],
   "source": [
    "#calculating datetime difference using timedelta\n",
    "dt1_now = datetime.now()\n",
    "print('today\\'s date:', dt1_now)\n",
    "dt1_now_2d = dt1_now + timedelta(days = 2)\n",
    "print('time after 2 days:', dt1_now_2d)\n",
    "\n",
    "#time diference\n",
    "\n",
    "diff = dt1_now_2d - dt1_now\n",
    "\n",
    "print('time difference:', diff)"
   ]
  },
  {
   "cell_type": "code",
   "execution_count": 85,
   "id": "196448f0",
   "metadata": {},
   "outputs": [
    {
     "name": "stdout",
     "output_type": "stream",
     "text": [
      "current datetime: 2022-10-30 17:56:32.107644\n",
      "changed format: Sunday 30-10-2022\n",
      "changed format exp 2: Sun 30-10-22 17:56:32\n"
     ]
    }
   ],
   "source": [
    "#format datetime\n",
    "from datetime import datetime as dt\n",
    "dt1 = dt.now()\n",
    "print('current datetime:', dt1)\n",
    "dt1_format = '%A %d-%m-%Y'\n",
    "dt1_format2 = '%a %d-%m-%y %H:%M:%S'\n",
    "dt1_new = dt1.strftime(dt1_format)\n",
    "dt1_new2 = dt1.strftime(dt1_format2)\n",
    "print('changed format:', dt1_new)\n",
    "print('changed format exp 2:', dt1_new2)\n"
   ]
  },
  {
   "cell_type": "code",
   "execution_count": 1,
   "id": "ca44a937",
   "metadata": {},
   "outputs": [
    {
     "name": "stdout",
     "output_type": "stream",
     "text": [
      "date in datetime: 2022-03-21 05:32:55\n",
      "string date: 2022-03-21T05:32:55\n",
      "<class 'str'>\n",
      "2022-03-21 05:32:55\n",
      "<class 'datetime.datetime'>\n"
     ]
    }
   ],
   "source": [
    "#converting date to string and string to datetime\n",
    "from datetime import datetime\n",
    "\n",
    "dt = datetime(2022,3,21, 5,32,55)\n",
    "print('date in datetime:', dt)\n",
    "\n",
    "st1 = dt.isoformat()\n",
    "print('string date:', st1)\n",
    "print(type(st1))\n",
    "\n",
    "#print('string date to datetime date:', datetime(st1))\n",
    "f = '%Y-%m-%d %H:%M:%S'\n",
    "st_date = '2022-3-21 5:32:55'\n",
    "date1 = datetime.strptime(st_date, f)\n",
    "print(date1)\n",
    "print(type(date1))"
   ]
  },
  {
   "cell_type": "code",
   "execution_count": null,
   "id": "ca16ada4",
   "metadata": {},
   "outputs": [],
   "source": [
    "#converting date to string and string to datetime\n",
    "from datetime import datetime\n",
    "\n",
    "dt = datetime(2022,3,21, 5,32,55)\n",
    "print('date in datetime:', dt)\n",
    "\n",
    "st1 = dt.isoformat()\n",
    "print('string date:', st1)\n",
    "print(type(st1))\n",
    "\n",
    "#print('string date to datetime date:', datetime(st1))\n",
    "f = '%Y-%m-%d %H:%M:%S'\n",
    "st_date = '2022-3-21 5:32:55'\n",
    "date1 = datetime.strptime(st_date, f)\n",
    "print(date1)\n",
    "print(type(date1))"
   ]
  },
  {
   "cell_type": "code",
   "execution_count": 8,
   "id": "2347e76c",
   "metadata": {},
   "outputs": [
    {
     "name": "stdout",
     "output_type": "stream",
     "text": [
      "2021-06-02\n",
      "<class 'datetime.date'>\n"
     ]
    }
   ],
   "source": [
    "from datetime import datetime\n",
    "today = date(2021,6,2)\n",
    "print(today)\n",
    "print(type(today))"
   ]
  },
  {
   "cell_type": "code",
   "execution_count": null,
   "id": "15fbaa98",
   "metadata": {},
   "outputs": [],
   "source": []
  }
 ],
 "metadata": {
  "kernelspec": {
   "display_name": "Python 3 (ipykernel)",
   "language": "python",
   "name": "python3"
  },
  "language_info": {
   "codemirror_mode": {
    "name": "ipython",
    "version": 3
   },
   "file_extension": ".py",
   "mimetype": "text/x-python",
   "name": "python",
   "nbconvert_exporter": "python",
   "pygments_lexer": "ipython3",
   "version": "3.9.13"
  }
 },
 "nbformat": 4,
 "nbformat_minor": 5
}
