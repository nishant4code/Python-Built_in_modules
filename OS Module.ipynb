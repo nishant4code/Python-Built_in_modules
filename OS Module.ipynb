{
 "cells": [
  {
   "cell_type": "code",
   "execution_count": 7,
   "id": "0a0d7023",
   "metadata": {},
   "outputs": [],
   "source": [
    "import os"
   ]
  },
  {
   "cell_type": "code",
   "execution_count": 8,
   "id": "8e0b3d16",
   "metadata": {},
   "outputs": [
    {
     "data": {
      "text/plain": [
       "'C:\\\\Users\\\\hp\\\\Jupyter Notebooks'"
      ]
     },
     "execution_count": 8,
     "metadata": {},
     "output_type": "execute_result"
    }
   ],
   "source": [
    "os.getcwd()"
   ]
  },
  {
   "cell_type": "code",
   "execution_count": 3,
   "id": "2f0d016a",
   "metadata": {},
   "outputs": [
    {
     "name": "stdout",
     "output_type": "stream",
     "text": [
      "current working directory\n",
      "C:\\Users\\hp\\Jupyter Notebooks\\Modules\n",
      "current working directory\n",
      "C:\\Users\\hp\\Jupyter Notebooks\n"
     ]
    }
   ],
   "source": [
    "def current_dir():\n",
    "    print('current working directory')\n",
    "    print(os.getcwd())\n",
    "\n",
    "current_dir()\n",
    "os.chdir('../')\n",
    "current_dir()\n"
   ]
  },
  {
   "cell_type": "code",
   "execution_count": 4,
   "id": "5d5f204d",
   "metadata": {},
   "outputs": [
    {
     "data": {
      "text/plain": [
       "'C:\\\\Users\\\\hp\\\\Jupyter Notebooks'"
      ]
     },
     "execution_count": 4,
     "metadata": {},
     "output_type": "execute_result"
    }
   ],
   "source": [
    "os.getcwd()"
   ]
  },
  {
   "cell_type": "code",
   "execution_count": 9,
   "id": "c1f30be6",
   "metadata": {},
   "outputs": [],
   "source": [
    "os.chdir('C:\\\\Users\\\\hp\\\\Jupyter Notebooks\\\\Modules')"
   ]
  },
  {
   "cell_type": "code",
   "execution_count": 10,
   "id": "10e8fed7",
   "metadata": {},
   "outputs": [
    {
     "data": {
      "text/plain": [
       "'C:\\\\Users\\\\hp\\\\Jupyter Notebooks\\\\Modules'"
      ]
     },
     "execution_count": 10,
     "metadata": {},
     "output_type": "execute_result"
    }
   ],
   "source": [
    "os.getcwd()"
   ]
  },
  {
   "cell_type": "code",
   "execution_count": 11,
   "id": "1c77190d",
   "metadata": {},
   "outputs": [
    {
     "name": "stdout",
     "output_type": "stream",
     "text": [
      "['DirEntry', 'F_OK', 'GenericAlias', 'Mapping', 'MutableMapping', 'O_APPEND', 'O_BINARY', 'O_CREAT', 'O_EXCL', 'O_NOINHERIT', 'O_RANDOM', 'O_RDONLY', 'O_RDWR', 'O_SEQUENTIAL', 'O_SHORT_LIVED', 'O_TEMPORARY', 'O_TEXT', 'O_TRUNC', 'O_WRONLY', 'P_DETACH', 'P_NOWAIT', 'P_NOWAITO', 'P_OVERLAY', 'P_WAIT', 'PathLike', 'R_OK', 'SEEK_CUR', 'SEEK_END', 'SEEK_SET', 'TMP_MAX', 'W_OK', 'X_OK', '_AddedDllDirectory', '_Environ', '__all__', '__builtins__', '__cached__', '__doc__', '__file__', '__loader__', '__name__', '__package__', '__spec__', '_check_methods', '_execvpe', '_exists', '_exit', '_fspath', '_get_exports_list', '_walk', '_wrap_close', 'abc', 'abort', 'access', 'add_dll_directory', 'altsep', 'chdir', 'chmod', 'close', 'closerange', 'cpu_count', 'curdir', 'defpath', 'device_encoding', 'devnull', 'dup', 'dup2', 'environ', 'error', 'execl', 'execle', 'execlp', 'execlpe', 'execv', 'execve', 'execvp', 'execvpe', 'extsep', 'fdopen', 'fsdecode', 'fsencode', 'fspath', 'fstat', 'fsync', 'ftruncate', 'get_exec_path', 'get_handle_inheritable', 'get_inheritable', 'get_terminal_size', 'getcwd', 'getcwdb', 'getenv', 'getlogin', 'getpid', 'getppid', 'isatty', 'kill', 'linesep', 'link', 'listdir', 'lseek', 'lstat', 'makedirs', 'mkdir', 'name', 'open', 'pardir', 'path', 'pathsep', 'pipe', 'popen', 'putenv', 'read', 'readlink', 'remove', 'removedirs', 'rename', 'renames', 'replace', 'rmdir', 'scandir', 'sep', 'set_handle_inheritable', 'set_inheritable', 'spawnl', 'spawnle', 'spawnv', 'spawnve', 'st', 'startfile', 'stat', 'stat_result', 'statvfs_result', 'strerror', 'supports_bytes_environ', 'supports_dir_fd', 'supports_effective_ids', 'supports_fd', 'supports_follow_symlinks', 'symlink', 'sys', 'system', 'terminal_size', 'times', 'times_result', 'truncate', 'umask', 'uname_result', 'unlink', 'unsetenv', 'urandom', 'utime', 'waitpid', 'waitstatus_to_exitcode', 'walk', 'write']\n"
     ]
    }
   ],
   "source": [
    "print(dir(os)) #returns list of attributes and methods that we can access with this OS module"
   ]
  },
  {
   "cell_type": "code",
   "execution_count": 12,
   "id": "bd200294",
   "metadata": {},
   "outputs": [
    {
     "name": "stdout",
     "output_type": "stream",
     "text": [
      "C:\\Users\\hp\\Jupyter Notebooks\\Modules\n"
     ]
    }
   ],
   "source": [
    "#getting the current working directory\n",
    "print(os.getcwd())"
   ]
  },
  {
   "cell_type": "code",
   "execution_count": 14,
   "id": "3932bfa4",
   "metadata": {},
   "outputs": [],
   "source": [
    "#for changing the directory, os.chdir() is used\n",
    "os.chdir('C:\\\\Users\\\\hp\\\\Jupyter Notebooks')"
   ]
  },
  {
   "cell_type": "code",
   "execution_count": 15,
   "id": "401e03a5",
   "metadata": {},
   "outputs": [
    {
     "data": {
      "text/plain": [
       "'C:\\\\Users\\\\hp\\\\Jupyter Notebooks'"
      ]
     },
     "execution_count": 15,
     "metadata": {},
     "output_type": "execute_result"
    }
   ],
   "source": [
    "os.getcwd()"
   ]
  },
  {
   "cell_type": "code",
   "execution_count": 16,
   "id": "51d5a1ee",
   "metadata": {},
   "outputs": [
    {
     "data": {
      "text/plain": [
       "['.ipynb_checkpoints', 'Modules', 'Python Basics & built-in functions']"
      ]
     },
     "execution_count": 16,
     "metadata": {},
     "output_type": "execute_result"
    }
   ],
   "source": [
    "# to get a list of file and folders, os.listdir() is used\n",
    "os.listdir()"
   ]
  },
  {
   "cell_type": "code",
   "execution_count": 20,
   "id": "66f26738",
   "metadata": {},
   "outputs": [
    {
     "data": {
      "text/plain": [
       "['CURRICULUM VITEA-NISHANT.doc',\n",
       " 'desktop.ini',\n",
       " 'jupyter files',\n",
       " 'jupyter files1',\n",
       " 'New Text Document.txt',\n",
       " 'nishant cv.docx',\n",
       " 'Picture 035.jpg',\n",
       " 'python topics.txt',\n",
       " 'Target Learning.xlsx']"
      ]
     },
     "execution_count": 20,
     "metadata": {},
     "output_type": "execute_result"
    }
   ],
   "source": [
    "#create a new folder on desktop\n",
    "#method-1 using os.mkdir()\n",
    "#method-2 using os.makedirs()\n",
    "os.chdir('C:\\\\Users\\\\hp\\\\Desktop')\n",
    "#os.mkdir('jupyter files1/file')\n",
    "os.makedirs('jupyter files1/file')\n",
    "os.listdir()"
   ]
  },
  {
   "cell_type": "code",
   "execution_count": 21,
   "id": "09efa979",
   "metadata": {},
   "outputs": [
    {
     "data": {
      "text/plain": [
       "['CURRICULUM VITEA-NISHANT.doc',\n",
       " 'desktop.ini',\n",
       " 'New Text Document.txt',\n",
       " 'nishant cv.docx',\n",
       " 'Picture 035.jpg',\n",
       " 'python topics.txt',\n",
       " 'Target Learning.xlsx']"
      ]
     },
     "execution_count": 21,
     "metadata": {},
     "output_type": "execute_result"
    }
   ],
   "source": [
    "#removing directories\n",
    "os.chdir('C:\\\\Users\\\\hp\\\\Desktop')\n",
    "os.rmdir('jupyter files')\n",
    "os.removedirs('jupyter files1/file')\n",
    "os.listdir()"
   ]
  },
  {
   "cell_type": "code",
   "execution_count": 22,
   "id": "3e66641d",
   "metadata": {},
   "outputs": [],
   "source": [
    "os.makedirs('jupyter files1/file')"
   ]
  },
  {
   "cell_type": "code",
   "execution_count": 23,
   "id": "c031f917",
   "metadata": {},
   "outputs": [
    {
     "data": {
      "text/plain": [
       "['CURRICULUM VITEA-NISHANT.doc',\n",
       " 'desktop.ini',\n",
       " 'jupyter files1',\n",
       " 'New Text Document.txt',\n",
       " 'nishant cv.docx',\n",
       " 'Picture 035.jpg',\n",
       " 'python topics.txt',\n",
       " 'Target Learning.xlsx']"
      ]
     },
     "execution_count": 23,
     "metadata": {},
     "output_type": "execute_result"
    }
   ],
   "source": [
    "os.listdir()"
   ]
  },
  {
   "cell_type": "code",
   "execution_count": 25,
   "id": "36a0f9b0",
   "metadata": {},
   "outputs": [
    {
     "data": {
      "text/plain": [
       "['CURRICULUM VITEA-NISHANT_CHAUHAN.doc',\n",
       " 'desktop.ini',\n",
       " 'jupyter files1',\n",
       " 'New Text Document.txt',\n",
       " 'nishant cv.docx',\n",
       " 'Picture 035.jpg',\n",
       " 'python topics.txt',\n",
       " 'Target Learning.xlsx']"
      ]
     },
     "execution_count": 25,
     "metadata": {},
     "output_type": "execute_result"
    }
   ],
   "source": [
    "#rename a file or directory\n",
    "os.chdir('C:\\\\Users\\\\hp\\\\Desktop')\n",
    "os.rename('CURRICULUM VITEA-NISHANT.doc', 'CURRICULUM VITEA-NISHANT_CHAUHAN.doc')\n",
    "os.listdir()"
   ]
  },
  {
   "cell_type": "code",
   "execution_count": 32,
   "id": "337144c7",
   "metadata": {},
   "outputs": [
    {
     "name": "stdout",
     "output_type": "stream",
     "text": [
      "1337704500.0\n",
      "2012-05-22 22:05:00\n"
     ]
    }
   ],
   "source": [
    "from datetime import datetime\n",
    "tm = os.stat('Picture 035.jpg').st_mtime\n",
    "print(tm)\n",
    "print(datetime.fromtimestamp(tm))\n"
   ]
  },
  {
   "cell_type": "code",
   "execution_count": 35,
   "id": "cb996fa1",
   "metadata": {},
   "outputs": [
    {
     "data": {
      "text/plain": [
       "['CURRICULUM VITEA-NISHANT_CHAUHAN.doc',\n",
       " 'desktop.ini',\n",
       " 'jupyter files1',\n",
       " 'New Text Document.txt',\n",
       " 'nishant cv.docx',\n",
       " 'Picture 035.jpg',\n",
       " 'python topics.txt',\n",
       " 'Target Learning.xlsx']"
      ]
     },
     "execution_count": 35,
     "metadata": {},
     "output_type": "execute_result"
    }
   ],
   "source": [
    "os.listdir()"
   ]
  },
  {
   "cell_type": "code",
   "execution_count": 36,
   "id": "e8d895d4",
   "metadata": {},
   "outputs": [
    {
     "data": {
      "text/plain": [
       "['CURRICULUM VITEA-NISHANT_CHAUHAN.doc',\n",
       " 'desktop.ini',\n",
       " 'jupyter files1',\n",
       " 'New Text Document.txt',\n",
       " 'nishant cv.docx',\n",
       " 'Picture 035.jpg',\n",
       " 'python topics1.txt',\n",
       " 'Target Learning.xlsx']"
      ]
     },
     "execution_count": 36,
     "metadata": {},
     "output_type": "execute_result"
    }
   ],
   "source": [
    "os.rename('python topics.txt', 'python topics1.txt')\n",
    "os.listdir()"
   ]
  },
  {
   "cell_type": "code",
   "execution_count": 46,
   "id": "f7b0d972",
   "metadata": {},
   "outputs": [
    {
     "name": "stdout",
     "output_type": "stream",
     "text": [
      "1667073195.9309714\n",
      "2022-10-30 01:23:15.930971\n",
      "2022-10-30\n",
      "2022\n"
     ]
    }
   ],
   "source": [
    "x = os.stat('python topics1.txt').st_mtime\n",
    "print(x)\n",
    "modified_dt = datetime.fromtimestamp(x)\n",
    "print(modified_dt)\n",
    "print(modified_dt.date())\n",
    "print(modified_dt.year)"
   ]
  },
  {
   "cell_type": "code",
   "execution_count": 38,
   "id": "669684ec",
   "metadata": {},
   "outputs": [
    {
     "name": "stdout",
     "output_type": "stream",
     "text": [
      "['DirEntry', 'F_OK', 'GenericAlias', 'Mapping', 'MutableMapping', 'O_APPEND', 'O_BINARY', 'O_CREAT', 'O_EXCL', 'O_NOINHERIT', 'O_RANDOM', 'O_RDONLY', 'O_RDWR', 'O_SEQUENTIAL', 'O_SHORT_LIVED', 'O_TEMPORARY', 'O_TEXT', 'O_TRUNC', 'O_WRONLY', 'P_DETACH', 'P_NOWAIT', 'P_NOWAITO', 'P_OVERLAY', 'P_WAIT', 'PathLike', 'R_OK', 'SEEK_CUR', 'SEEK_END', 'SEEK_SET', 'TMP_MAX', 'W_OK', 'X_OK', '_AddedDllDirectory', '_Environ', '__all__', '__builtins__', '__cached__', '__doc__', '__file__', '__loader__', '__name__', '__package__', '__spec__', '_check_methods', '_execvpe', '_exists', '_exit', '_fspath', '_get_exports_list', '_walk', '_wrap_close', 'abc', 'abort', 'access', 'add_dll_directory', 'altsep', 'chdir', 'chmod', 'close', 'closerange', 'cpu_count', 'curdir', 'defpath', 'device_encoding', 'devnull', 'dup', 'dup2', 'environ', 'error', 'execl', 'execle', 'execlp', 'execlpe', 'execv', 'execve', 'execvp', 'execvpe', 'extsep', 'fdopen', 'fsdecode', 'fsencode', 'fspath', 'fstat', 'fsync', 'ftruncate', 'get_exec_path', 'get_handle_inheritable', 'get_inheritable', 'get_terminal_size', 'getcwd', 'getcwdb', 'getenv', 'getlogin', 'getpid', 'getppid', 'isatty', 'kill', 'linesep', 'link', 'listdir', 'lseek', 'lstat', 'makedirs', 'mkdir', 'name', 'open', 'pardir', 'path', 'pathsep', 'pipe', 'popen', 'putenv', 'read', 'readlink', 'remove', 'removedirs', 'rename', 'renames', 'replace', 'rmdir', 'scandir', 'sep', 'set_handle_inheritable', 'set_inheritable', 'spawnl', 'spawnle', 'spawnv', 'spawnve', 'st', 'startfile', 'stat', 'stat_result', 'statvfs_result', 'strerror', 'supports_bytes_environ', 'supports_dir_fd', 'supports_effective_ids', 'supports_fd', 'supports_follow_symlinks', 'symlink', 'sys', 'system', 'terminal_size', 'times', 'times_result', 'truncate', 'umask', 'uname_result', 'unlink', 'unsetenv', 'urandom', 'utime', 'waitpid', 'waitstatus_to_exitcode', 'walk', 'write']\n"
     ]
    }
   ],
   "source": [
    "print(dir(os))"
   ]
  },
  {
   "cell_type": "code",
   "execution_count": 47,
   "id": "c70dc693",
   "metadata": {},
   "outputs": [
    {
     "data": {
      "text/plain": [
       "os.stat_result(st_mode=33206, st_ino=1125899906954635, st_dev=473053296, st_nlink=1, st_uid=0, st_gid=0, st_size=319, st_atime=1667145027, st_mtime=1667073195, st_ctime=1660379362)"
      ]
     },
     "execution_count": 47,
     "metadata": {},
     "output_type": "execute_result"
    }
   ],
   "source": [
    "os.stat('python topics1.txt')"
   ]
  },
  {
   "cell_type": "code",
   "execution_count": 48,
   "id": "92bc658e",
   "metadata": {},
   "outputs": [
    {
     "data": {
      "text/plain": [
       "319"
      ]
     },
     "execution_count": 48,
     "metadata": {},
     "output_type": "execute_result"
    }
   ],
   "source": [
    "os.stat('python topics1.txt').st_size"
   ]
  },
  {
   "cell_type": "code",
   "execution_count": 50,
   "id": "9f69ba02",
   "metadata": {},
   "outputs": [
    {
     "name": "stdout",
     "output_type": "stream",
     "text": [
      "current path:  C:\\Users\\hp\\Desktop\n",
      "Directories:  ['jupyter files1']\n",
      "Files:  ['CURRICULUM VITEA-NISHANT_CHAUHAN.doc', 'desktop.ini', 'New Text Document.txt', 'nishant cv.docx', 'Picture 035.jpg', 'python topics1.txt', 'Target Learning.xlsx']\n",
      "current path:  C:\\Users\\hp\\Desktop\\jupyter files1\n",
      "Directories:  ['file']\n",
      "Files:  []\n",
      "current path:  C:\\Users\\hp\\Desktop\\jupyter files1\\file\n",
      "Directories:  []\n",
      "Files:  []\n"
     ]
    }
   ],
   "source": [
    "for dirpath, dirnames, filenames in os.walk('C:\\\\Users\\\\hp\\\\Desktop'):\n",
    "    print('current path: ', dirpath)\n",
    "    print('Directories: ', dirnames)\n",
    "    print('Files: ', filenames)\n",
    "    "
   ]
  },
  {
   "cell_type": "code",
   "execution_count": 59,
   "id": "7bb6274e",
   "metadata": {},
   "outputs": [
    {
     "data": {
      "text/plain": [
       "environ{'ALLUSERSPROFILE': 'C:\\\\ProgramData',\n",
       "        'APPDATA': 'C:\\\\Users\\\\hp\\\\AppData\\\\Roaming',\n",
       "        'COMMONPROGRAMFILES': 'C:\\\\Program Files\\\\Common Files',\n",
       "        'COMMONPROGRAMFILES(X86)': 'C:\\\\Program Files (x86)\\\\Common Files',\n",
       "        'COMMONPROGRAMW6432': 'C:\\\\Program Files\\\\Common Files',\n",
       "        'COMPUTERNAME': 'NISHANT',\n",
       "        'COMSPEC': 'C:\\\\Windows\\\\system32\\\\cmd.exe',\n",
       "        'DRIVERDATA': 'C:\\\\Windows\\\\System32\\\\Drivers\\\\DriverData',\n",
       "        'FPS_BROWSER_APP_PROFILE_STRING': 'Internet Explorer',\n",
       "        'FPS_BROWSER_USER_PROFILE_STRING': 'Default',\n",
       "        'HOMEDRIVE': 'C:',\n",
       "        'HOMEPATH': '\\\\Users\\\\hp',\n",
       "        'LOCALAPPDATA': 'C:\\\\Users\\\\hp\\\\AppData\\\\Local',\n",
       "        'LOGONSERVER': '\\\\\\\\NISHANT',\n",
       "        'NUMBER_OF_PROCESSORS': '4',\n",
       "        'ONEDRIVE': 'C:\\\\Users\\\\hp\\\\OneDrive',\n",
       "        'OS': 'Windows_NT',\n",
       "        'PATH': 'C:\\\\python39\\\\Scripts\\\\;C:\\\\python39\\\\;C:\\\\ProgramData\\\\Oracle\\\\Java\\\\javapath;C:\\\\python37\\\\Scripts\\\\;C:\\\\python37\\\\;C:\\\\Windows\\\\system32;C:\\\\Windows;C:\\\\Windows\\\\System32\\\\Wbem;C:\\\\Windows\\\\System32\\\\WindowsPowerShell\\\\v1.0\\\\;C:\\\\Windows\\\\System32\\\\OpenSSH\\\\;C:\\\\Program Files\\\\MySQL\\\\MySQL Server 8.0\\\\bin;C:\\\\Program Files\\\\Azure Data Studio\\\\bin;C:\\\\Program Files\\\\Microsoft SQL Server\\\\Client SDK\\\\ODBC\\\\170\\\\Tools\\\\Binn\\\\;C:\\\\Program Files (x86)\\\\Microsoft SQL Server\\\\150\\\\Tools\\\\Binn\\\\;C:\\\\Program Files\\\\Microsoft SQL Server\\\\150\\\\Tools\\\\Binn\\\\;C:\\\\Program Files\\\\Microsoft SQL Server\\\\150\\\\DTS\\\\Binn\\\\;C:\\\\Program Files (x86)\\\\Microsoft SQL Server\\\\150\\\\DTS\\\\Binn\\\\;C:\\\\Program Files\\\\MySQL\\\\MySQL Shell 8.0\\\\bin\\\\;C:\\\\Users\\\\hp\\\\AppData\\\\Local\\\\Microsoft\\\\WindowsApps;;C:\\\\Program Files\\\\Azure Data Studio\\\\bin',\n",
       "        'PATHEXT': '.COM;.EXE;.BAT;.CMD;.VBS;.VBE;.JS;.JSE;.WSF;.WSH;.MSC;.PY;.PYW',\n",
       "        'PROCESSOR_ARCHITECTURE': 'AMD64',\n",
       "        'PROCESSOR_IDENTIFIER': 'Intel64 Family 6 Model 58 Stepping 9, GenuineIntel',\n",
       "        'PROCESSOR_LEVEL': '6',\n",
       "        'PROCESSOR_REVISION': '3a09',\n",
       "        'PROGRAMDATA': 'C:\\\\ProgramData',\n",
       "        'PROGRAMFILES': 'C:\\\\Program Files',\n",
       "        'PROGRAMFILES(X86)': 'C:\\\\Program Files (x86)',\n",
       "        'PROGRAMW6432': 'C:\\\\Program Files',\n",
       "        'PROMPT': '$P$G',\n",
       "        'PSMODULEPATH': 'C:\\\\Program Files\\\\WindowsPowerShell\\\\Modules;C:\\\\Windows\\\\system32\\\\WindowsPowerShell\\\\v1.0\\\\Modules;C:\\\\Program Files (x86)\\\\Microsoft SQL Server\\\\150\\\\Tools\\\\PowerShell\\\\Modules\\\\',\n",
       "        'PUBLIC': 'C:\\\\Users\\\\Public',\n",
       "        'SESSIONNAME': 'Console',\n",
       "        'SYSTEMDRIVE': 'C:',\n",
       "        'SYSTEMROOT': 'C:\\\\Windows',\n",
       "        'TEMP': 'C:\\\\Users\\\\hp\\\\AppData\\\\Local\\\\Temp',\n",
       "        'TMP': 'C:\\\\Users\\\\hp\\\\AppData\\\\Local\\\\Temp',\n",
       "        'USERDOMAIN': 'NISHANT',\n",
       "        'USERDOMAIN_ROAMINGPROFILE': 'NISHANT',\n",
       "        'USERNAME': 'hp',\n",
       "        'USERPROFILE': 'C:\\\\Users\\\\hp',\n",
       "        'WINDIR': 'C:\\\\Windows',\n",
       "        'JPY_INTERRUPT_EVENT': '2572',\n",
       "        'IPY_INTERRUPT_EVENT': '2572',\n",
       "        'JPY_PARENT_PID': '2568',\n",
       "        'TERM': 'xterm-color',\n",
       "        'CLICOLOR': '1',\n",
       "        'PAGER': 'cat',\n",
       "        'GIT_PAGER': 'cat',\n",
       "        'MPLBACKEND': 'module://matplotlib_inline.backend_inline'}"
      ]
     },
     "execution_count": 59,
     "metadata": {},
     "output_type": "execute_result"
    }
   ],
   "source": [
    "#print(os.environ.get('jupyter Notebooks'))\n",
    "os.environ\n"
   ]
  },
  {
   "cell_type": "code",
   "execution_count": 67,
   "id": "adca8cde",
   "metadata": {},
   "outputs": [
    {
     "name": "stdout",
     "output_type": "stream",
     "text": [
      "None\n"
     ]
    }
   ],
   "source": [
    "#returns None, not working\n",
    "os.chdir('C:\\\\Users\\\\hp\\\\Desktop\\\\jupyter files1')\n",
    "print(os.environ.get('test.txt'))"
   ]
  },
  {
   "cell_type": "code",
   "execution_count": 72,
   "id": "443e0006",
   "metadata": {},
   "outputs": [
    {
     "name": "stdout",
     "output_type": "stream",
     "text": [
      "/jupyter files1\n"
     ]
    }
   ],
   "source": [
    "#returns directory name\n",
    "print(os.path.dirname('/jupyter files1/test.txt'))"
   ]
  },
  {
   "cell_type": "code",
   "execution_count": 73,
   "id": "873f4510",
   "metadata": {},
   "outputs": [
    {
     "name": "stdout",
     "output_type": "stream",
     "text": [
      "('/jupyter files1', 'test.txt')\n"
     ]
    }
   ],
   "source": [
    "#returns directory name and file name\n",
    "print(os.path.split('/jupyter files1/test.txt'))"
   ]
  },
  {
   "cell_type": "code",
   "execution_count": 78,
   "id": "aafaddc3",
   "metadata": {},
   "outputs": [
    {
     "data": {
      "text/plain": [
       "False"
      ]
     },
     "execution_count": 78,
     "metadata": {},
     "output_type": "execute_result"
    }
   ],
   "source": [
    "os.path.exists('/jupyter files1/test.txt')"
   ]
  },
  {
   "cell_type": "code",
   "execution_count": 76,
   "id": "5171dbb1",
   "metadata": {},
   "outputs": [
    {
     "data": {
      "text/plain": [
       "True"
      ]
     },
     "execution_count": 76,
     "metadata": {},
     "output_type": "execute_result"
    }
   ],
   "source": [
    "#returns boolean value, verifies path exists or not\n",
    "os.path.exists('C:\\\\Users\\\\hp\\\\Desktop\\\\jupyter files1\\\\test.txt')"
   ]
  },
  {
   "cell_type": "code",
   "execution_count": 79,
   "id": "f84b665d",
   "metadata": {},
   "outputs": [
    {
     "data": {
      "text/plain": [
       "'/tmp'"
      ]
     },
     "execution_count": 79,
     "metadata": {},
     "output_type": "execute_result"
    }
   ],
   "source": [
    "#using fake path\n",
    "os.path.dirname('/tmp/test.txt')"
   ]
  },
  {
   "cell_type": "code",
   "execution_count": 96,
   "id": "f5f6bd08",
   "metadata": {},
   "outputs": [
    {
     "data": {
      "text/plain": [
       "('/tmp', 'test.txt')"
      ]
     },
     "execution_count": 96,
     "metadata": {},
     "output_type": "execute_result"
    }
   ],
   "source": [
    "#using fake path\n",
    "os.path.split('/tmp/test.txt') #returns directory name and file name\n",
    "    "
   ]
  },
  {
   "cell_type": "code",
   "execution_count": 97,
   "id": "dd57ac4c",
   "metadata": {},
   "outputs": [
    {
     "data": {
      "text/plain": [
       "False"
      ]
     },
     "execution_count": 97,
     "metadata": {},
     "output_type": "execute_result"
    }
   ],
   "source": [
    "#returns boolean value, verifies path exists or not\n",
    "os.path.exists('/tmp/test.txt')"
   ]
  },
  {
   "cell_type": "code",
   "execution_count": 98,
   "id": "6fd87e63",
   "metadata": {},
   "outputs": [
    {
     "data": {
      "text/plain": [
       "False"
      ]
     },
     "execution_count": 98,
     "metadata": {},
     "output_type": "execute_result"
    }
   ],
   "source": [
    "#check if it is a directory or not\n",
    "os.path.isdir('/tmp/test.txt')"
   ]
  },
  {
   "cell_type": "code",
   "execution_count": 99,
   "id": "46e4cd12",
   "metadata": {},
   "outputs": [
    {
     "data": {
      "text/plain": [
       "False"
      ]
     },
     "execution_count": 99,
     "metadata": {},
     "output_type": "execute_result"
    }
   ],
   "source": [
    "#check if it is a file or not\n",
    "os.path.isfile('/tmp/test.txt')"
   ]
  },
  {
   "cell_type": "code",
   "execution_count": 100,
   "id": "6bd76c18",
   "metadata": {},
   "outputs": [
    {
     "data": {
      "text/plain": [
       "False"
      ]
     },
     "execution_count": 100,
     "metadata": {},
     "output_type": "execute_result"
    }
   ],
   "source": [
    "#check if it is a file or not\n",
    "os.path.isfile('/tmp/testdfefr')"
   ]
  },
  {
   "cell_type": "code",
   "execution_count": 101,
   "id": "9f5ae39c",
   "metadata": {},
   "outputs": [
    {
     "data": {
      "text/plain": [
       "('/tmp/cddsdkmkld', '.txt')"
      ]
     },
     "execution_count": 101,
     "metadata": {},
     "output_type": "execute_result"
    }
   ],
   "source": [
    "#split file root and extension\n",
    "os.path.splitext('/tmp/cddsdkmkld.txt') #returns ('/tmp/cddsdkmkld', '.txt')"
   ]
  },
  {
   "cell_type": "code",
   "execution_count": null,
   "id": "c1d5b2b5",
   "metadata": {},
   "outputs": [],
   "source": []
  },
  {
   "cell_type": "code",
   "execution_count": null,
   "id": "e2647b40",
   "metadata": {},
   "outputs": [],
   "source": []
  }
 ],
 "metadata": {
  "kernelspec": {
   "display_name": "Python 3 (ipykernel)",
   "language": "python",
   "name": "python3"
  },
  "language_info": {
   "codemirror_mode": {
    "name": "ipython",
    "version": 3
   },
   "file_extension": ".py",
   "mimetype": "text/x-python",
   "name": "python",
   "nbconvert_exporter": "python",
   "pygments_lexer": "ipython3",
   "version": "3.9.13"
  }
 },
 "nbformat": 4,
 "nbformat_minor": 5
}
