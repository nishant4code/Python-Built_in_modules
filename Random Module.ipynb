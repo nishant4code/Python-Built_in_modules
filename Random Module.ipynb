{
 "cells": [
  {
   "cell_type": "code",
   "execution_count": 1,
   "id": "cd2ddd73",
   "metadata": {},
   "outputs": [],
   "source": [
    "import random "
   ]
  },
  {
   "cell_type": "code",
   "execution_count": 11,
   "id": "f6fd694c",
   "metadata": {},
   "outputs": [
    {
     "data": {
      "text/plain": [
       "1"
      ]
     },
     "execution_count": 11,
     "metadata": {},
     "output_type": "execute_result"
    }
   ],
   "source": [
    "#random.randrange(start, stop, step)\n",
    "random.randrange(1,10,2)"
   ]
  },
  {
   "cell_type": "code",
   "execution_count": 2,
   "id": "0febdd5c",
   "metadata": {},
   "outputs": [
    {
     "data": {
      "text/plain": [
       "6"
      ]
     },
     "execution_count": 2,
     "metadata": {},
     "output_type": "execute_result"
    }
   ],
   "source": [
    "#randint() returns an integer value\n",
    "random.randint(1,10)"
   ]
  },
  {
   "cell_type": "code",
   "execution_count": 38,
   "id": "5101ac93",
   "metadata": {},
   "outputs": [
    {
     "data": {
      "text/plain": [
       "0.8353966725079216"
      ]
     },
     "execution_count": 38,
     "metadata": {},
     "output_type": "execute_result"
    }
   ],
   "source": [
    "#returns a float value between 0 and 1\n",
    "random.random()"
   ]
  },
  {
   "cell_type": "code",
   "execution_count": 16,
   "id": "b3890c26",
   "metadata": {},
   "outputs": [
    {
     "data": {
      "text/plain": [
       "7"
      ]
     },
     "execution_count": 16,
     "metadata": {},
     "output_type": "execute_result"
    }
   ],
   "source": [
    "#random.choice(), returns a random value from specified sequence\n",
    "random.choice([1,2,3,4,5,6,7,8,9,10])"
   ]
  },
  {
   "cell_type": "code",
   "execution_count": 24,
   "id": "3dc2fe2c",
   "metadata": {},
   "outputs": [
    {
     "data": {
      "text/plain": [
       "'orange'"
      ]
     },
     "execution_count": 24,
     "metadata": {},
     "output_type": "execute_result"
    }
   ],
   "source": [
    "#random.choice(), returns a random value from specified sequence\n",
    "random.choice(['apple', 'banana', 'cherry', 'orange'])"
   ]
  },
  {
   "cell_type": "code",
   "execution_count": 33,
   "id": "2c8ffdf8",
   "metadata": {},
   "outputs": [
    {
     "data": {
      "text/plain": [
       "[1]"
      ]
     },
     "execution_count": 33,
     "metadata": {},
     "output_type": "execute_result"
    }
   ],
   "source": [
    "#weights specifies the probability of occurance of each item in sequence\n",
    "random.choices([1,2,3,4,5], weights = [10,7,4,10,6])"
   ]
  },
  {
   "cell_type": "code",
   "execution_count": 37,
   "id": "47c4042e",
   "metadata": {},
   "outputs": [
    {
     "data": {
      "text/plain": [
       "['cherry', 'banana', 'apple', 'orange']"
      ]
     },
     "execution_count": 37,
     "metadata": {},
     "output_type": "execute_result"
    }
   ],
   "source": [
    "#reorganises order of list\n",
    "li1 = ['apple', 'banana', 'cherry', 'orange']\n",
    "random.shuffle(li1)\n",
    "li1"
   ]
  },
  {
   "cell_type": "code",
   "execution_count": 41,
   "id": "9d689e2e",
   "metadata": {},
   "outputs": [
    {
     "data": {
      "text/plain": [
       "['orange', 'banana']"
      ]
     },
     "execution_count": 41,
     "metadata": {},
     "output_type": "execute_result"
    }
   ],
   "source": [
    "# selects any 2 elements from sequence as sample\n",
    "random.sample(['apple', 'banana', 'cherry', 'orange'], k=2)"
   ]
  },
  {
   "cell_type": "code",
   "execution_count": 50,
   "id": "e387d18c",
   "metadata": {},
   "outputs": [
    {
     "data": {
      "text/plain": [
       "0.5714025946899135"
      ]
     },
     "execution_count": 50,
     "metadata": {},
     "output_type": "execute_result"
    }
   ],
   "source": [
    "#seed() fixes the random number, as we always get same random number again and again\n",
    "random.seed(10)\n",
    "random.random()"
   ]
  },
  {
   "cell_type": "code",
   "execution_count": 55,
   "id": "5541f7e3",
   "metadata": {},
   "outputs": [
    {
     "data": {
      "text/plain": [
       "10"
      ]
     },
     "execution_count": 55,
     "metadata": {},
     "output_type": "execute_result"
    }
   ],
   "source": [
    "#randint() returns an integer value\n",
    "#seed() fixes a random number as we get a random number again and again\n",
    "random.seed(10)\n",
    "random.randint(1,10)"
   ]
  },
  {
   "cell_type": "code",
   "execution_count": null,
   "id": "16d17aad",
   "metadata": {},
   "outputs": [],
   "source": []
  }
 ],
 "metadata": {
  "kernelspec": {
   "display_name": "Python 3 (ipykernel)",
   "language": "python",
   "name": "python3"
  },
  "language_info": {
   "codemirror_mode": {
    "name": "ipython",
    "version": 3
   },
   "file_extension": ".py",
   "mimetype": "text/x-python",
   "name": "python",
   "nbconvert_exporter": "python",
   "pygments_lexer": "ipython3",
   "version": "3.9.13"
  }
 },
 "nbformat": 4,
 "nbformat_minor": 5
}
